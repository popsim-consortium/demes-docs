{
 "cells": [
  {
   "cell_type": "markdown",
   "id": "bb619b10",
   "metadata": {},
   "source": [
    "(sec_quickstart)=\n",
    "\n",
    "# Quickstart\n",
    "\n",
    "## Loading a Demes graph\n",
    "\n",
    "Consider the well-known\n",
    "[Gutenkunst et al. (2009)](https://doi.org/10.1371/journal.pgen.1000695)\n",
    "Out-of-Africa model of human history.\n",
    "\n",
    "```{literalinclude} ../examples/gutenkunst_ooa.yml\n",
    ":language: yaml\n",
    "```\n",
    "\n",
    "This YAML file can be loaded into Python with the {func}`.load` function,\n",
    "to obtain a {class}`.Graph` instance (modify the filename as appropriate\n",
    "for your system)."
   ]
  },
  {
   "cell_type": "code",
   "execution_count": 1,
   "id": "751ed172",
   "metadata": {},
   "outputs": [
    {
     "data": {
      "text/plain": [
       "True"
      ]
     },
     "execution_count": 1,
     "metadata": {},
     "output_type": "execute_result"
    }
   ],
   "source": [
    "import demes\n",
    "\n",
    "ooa_graph = demes.load(\"../examples/gutenkunst_ooa.yml\")\n",
    "isinstance(ooa_graph, demes.Graph)"
   ]
  },
  {
   "cell_type": "markdown",
   "id": "2b519d7d",
   "metadata": {},
   "source": [
    "## Working with a Demes graph\n",
    "\n",
    "The features of the graph can then be inspected. We may ask which demes are\n",
    "present in the graph."
   ]
  },
  {
   "cell_type": "code",
   "execution_count": 2,
   "id": "92a1f55b",
   "metadata": {},
   "outputs": [
    {
     "name": "stdout",
     "output_type": "stream",
     "text": [
      "Is there a deme labeled CEU in the graph? True\n",
      "Is there a deme labeled JPT in the graph? False\n",
      "Which demes are present? ['ancestral', 'AMH', 'OOA', 'YRI', 'CEU', 'CHB']\n"
     ]
    }
   ],
   "source": [
    "print(\"Is there a deme labeled CEU in the graph?\", \"CEU\" in ooa_graph)\n",
    "print(\"Is there a deme labeled JPT in the graph?\", \"JPT\" in ooa_graph)\n",
    "print(\"Which demes are present?\", [deme.name for deme in ooa_graph.demes])"
   ]
  },
  {
   "cell_type": "markdown",
   "id": "977ed6c6",
   "metadata": {},
   "source": [
    "Or look in more detail at a single deme."
   ]
  },
  {
   "cell_type": "code",
   "execution_count": 3,
   "id": "c8a3acc2",
   "metadata": {},
   "outputs": [
    {
     "name": "stdout",
     "output_type": "stream",
     "text": [
      "How many epochs does CEU have? 1\n",
      "Epoch(start_time=21200.0, end_time=0, start_size=1000, end_size=29725, size_function='exponential', selfing_rate=0, cloning_rate=0)\n"
     ]
    }
   ],
   "source": [
    "ceu = ooa_graph[\"CEU\"]\n",
    "print(\"How many epochs does CEU have?\", len(ceu.epochs))\n",
    "print(ceu.epochs[0])"
   ]
  },
  {
   "cell_type": "markdown",
   "id": "7e8400a7",
   "metadata": {},
   "source": [
    "Similarly, we can inspect the interactions defined between demes."
   ]
  },
  {
   "cell_type": "code",
   "execution_count": 4,
   "id": "684883ef",
   "metadata": {},
   "outputs": [
    {
     "name": "stdout",
     "output_type": "stream",
     "text": [
      "number of migrations: 8\n",
      "migrations: \n",
      "  AsymmetricMigration(source='YRI', dest='OOA', start_time=140000.0, end_time=21200.0, rate=0.00025)\n",
      "  AsymmetricMigration(source='OOA', dest='YRI', start_time=140000.0, end_time=21200.0, rate=0.00025)\n",
      "  AsymmetricMigration(source='YRI', dest='CEU', start_time=21200.0, end_time=0, rate=3e-05)\n",
      "  AsymmetricMigration(source='CEU', dest='YRI', start_time=21200.0, end_time=0, rate=3e-05)\n",
      "  AsymmetricMigration(source='YRI', dest='CHB', start_time=21200.0, end_time=0, rate=1.9e-05)\n",
      "  AsymmetricMigration(source='CHB', dest='YRI', start_time=21200.0, end_time=0, rate=1.9e-05)\n",
      "  AsymmetricMigration(source='CEU', dest='CHB', start_time=21200.0, end_time=0, rate=9.6e-05)\n",
      "  AsymmetricMigration(source='CHB', dest='CEU', start_time=21200.0, end_time=0, rate=9.6e-05)\n",
      "number of pulses: 0\n"
     ]
    }
   ],
   "source": [
    "print(\"number of migrations:\", len(ooa_graph.migrations))\n",
    "print(\"migrations: \")\n",
    "for migration in ooa_graph.migrations:\n",
    "    print(\" \", migration)\n",
    "\n",
    "print(\"number of pulses:\", len(ooa_graph.pulses))"
   ]
  },
  {
   "cell_type": "markdown",
   "id": "45aab45f",
   "metadata": {},
   "source": [
    "## Building a Demes graph\n",
    "\n",
    "A demographic model can also be constructed by instantiating a\n",
    "{class}`.Builder` object, then adding demes, migrations, and admixture\n",
    "pulses via the methods available on this class."
   ]
  },
  {
   "cell_type": "code",
   "execution_count": 5,
   "id": "a2b85672",
   "metadata": {},
   "outputs": [],
   "source": [
    "b = demes.Builder(\n",
    "    description=\"Gutenkunst et al. (2009) three-population model.\",\n",
    "    doi=[\"10.1371/journal.pgen.1000695\"],\n",
    "    time_units=\"years\",\n",
    "    generation_time=25,\n",
    ")\n",
    "b.add_deme(\"ancestral\", epochs=[dict(end_time=220e3, start_size=7300)])\n",
    "b.add_deme(\"AMH\", ancestors=[\"ancestral\"], epochs=[dict(end_time=140e3, start_size=12300)])\n",
    "b.add_deme(\"OOA\", ancestors=[\"AMH\"], epochs=[dict(end_time=21.2e3, start_size=2100)])\n",
    "b.add_deme(\"YRI\", ancestors=[\"AMH\"], epochs=[dict(start_size=12300)])\n",
    "b.add_deme(\"CEU\", ancestors=[\"OOA\"], epochs=[dict(start_size=1000, end_size=29725)])\n",
    "b.add_deme(\"CHB\", ancestors=[\"OOA\"], epochs=[dict(start_size=510, end_size=54090)])\n",
    "b.add_migration(demes=[\"YRI\", \"OOA\"], rate=25e-5)\n",
    "b.add_migration(demes=[\"YRI\", \"CEU\"], rate=3e-5)\n",
    "b.add_migration(demes=[\"YRI\", \"CHB\"], rate=1.9e-5)\n",
    "b.add_migration(demes=[\"CEU\", \"CHB\"], rate=9.6e-5)"
   ]
  },
  {
   "cell_type": "markdown",
   "id": "55829441",
   "metadata": {},
   "source": [
    "The builder object can then be \"resolved\" into a {class}`.Graph` using the\n",
    "{meth}`.Builder.resolve` method. We can check that our implementation\n",
    "matches the example we loaded with the {meth}`.Graph.isclose` method."
   ]
  },
  {
   "cell_type": "code",
   "execution_count": 6,
   "id": "fea8cb1b",
   "metadata": {},
   "outputs": [
    {
     "data": {
      "text/plain": [
       "True"
      ]
     },
     "execution_count": 6,
     "metadata": {},
     "output_type": "execute_result"
    }
   ],
   "source": [
    "my_graph = b.resolve()\n",
    "my_graph.isclose(ooa_graph)"
   ]
  },
  {
   "cell_type": "markdown",
   "id": "2c947782",
   "metadata": {},
   "source": [
    "For some demographic models, using the Python API can be far less cumbersome\n",
    "than writing the equivalent YAML file. For example, we can define a ring of\n",
    "demes, with migration between adjacent demes, as follows."
   ]
  },
  {
   "cell_type": "code",
   "execution_count": 7,
   "id": "93d3452a",
   "metadata": {},
   "outputs": [],
   "source": [
    "M = 10  # number of demes\n",
    "b = demes.Builder(\n",
    "    description=f\"a ring of {M} demes, with migration between adjacent demes\",\n",
    "    time_units=\"generations\",\n",
    ")\n",
    "\n",
    "for j in range(M):\n",
    "    b.add_deme(f\"deme{j}\", epochs=[dict(start_size=1000)])\n",
    "    if j > 0:\n",
    "        b.add_migration(demes=[f\"deme{j - 1}\", f\"deme{j}\"], rate=1e-5)\n",
    "b.add_migration(demes=[f\"deme{M - 1}\", \"deme0\"], rate=1e-5)\n",
    "ring_graph = b.resolve()"
   ]
  },
  {
   "cell_type": "markdown",
   "id": "77f673fa",
   "metadata": {},
   "source": [
    "## Saving a Demes graph\n",
    "\n",
    "The graph can be written out to a new YAML file using {func}`.dump`."
   ]
  },
  {
   "cell_type": "code",
   "execution_count": 8,
   "id": "26803151",
   "metadata": {},
   "outputs": [],
   "source": [
    "demes.dump(ring_graph, \"/tmp/ring.yml\")"
   ]
  }
 ],
 "metadata": {
  "jupytext": {
   "formats": "md:myst",
   "text_representation": {
    "extension": ".md",
    "format_name": "myst"
   }
  },
  "kernelspec": {
   "display_name": "Python 3",
   "language": "python",
   "name": "python3"
  },
  "language_info": {
   "codemirror_mode": {
    "name": "ipython",
    "version": 3
   },
   "file_extension": ".py",
   "mimetype": "text/x-python",
   "name": "python",
   "nbconvert_exporter": "python",
   "pygments_lexer": "ipython3",
   "version": "3.8.11"
  },
  "source_map": [
   11,
   31,
   36,
   44,
   48,
   52,
   57,
   61,
   68,
   77,
   94,
   100,
   103,
   109,
   122,
   129
  ]
 },
 "nbformat": 4,
 "nbformat_minor": 5
}